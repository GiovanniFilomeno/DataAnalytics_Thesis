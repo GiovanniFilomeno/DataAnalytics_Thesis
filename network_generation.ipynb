{
 "cells": [
  {
   "cell_type": "code",
   "execution_count": 18,
   "metadata": {},
   "outputs": [],
   "source": [
    "import pandas as pd\n",
    "import networkx as nx\n",
    "import matplotlib.pyplot as plt\n",
    "import numpy as np\n",
    "import folium \n",
    "from datetime import datetime\n",
    "from math import sin, cos, sqrt, atan2, radians\n",
    "import sqlite3\n",
    "import requests\n",
    "import geopandas as gpd\n",
    "from utils import get_osrm_distance \n",
    "from utils import haversine_distance\n",
    "import requests\n",
    "from pyproj import Transformer\n",
    "import os\n",
    "from tqdm import tqdm, trange\n",
    "import bokeh\n",
    "from bokeh.plotting import figure, show, output_file\n",
    "from bokeh.models import ColumnDataSource, MultiLine\n",
    "from bokeh.tile_providers import get_provider, Vendors\n",
    "from bokeh.io import export_png\n",
    "from bokeh.models import LabelSet\n",
    "from selenium import webdriver\n"
   ]
  },
  {
   "cell_type": "code",
   "execution_count": 19,
   "metadata": {},
   "outputs": [],
   "source": [
    "data = pd.read_csv('ChargingStationCleaned.csv')\n",
    "data['year'] = pd.to_datetime(data['commissioning_date']).dt.year"
   ]
  },
  {
   "cell_type": "code",
   "execution_count": 20,
   "metadata": {},
   "outputs": [
    {
     "data": {
      "text/html": [
       "<div>\n",
       "<style scoped>\n",
       "    .dataframe tbody tr th:only-of-type {\n",
       "        vertical-align: middle;\n",
       "    }\n",
       "\n",
       "    .dataframe tbody tr th {\n",
       "        vertical-align: top;\n",
       "    }\n",
       "\n",
       "    .dataframe thead th {\n",
       "        text-align: right;\n",
       "    }\n",
       "</style>\n",
       "<table border=\"1\" class=\"dataframe\">\n",
       "  <thead>\n",
       "    <tr style=\"text-align: right;\">\n",
       "      <th></th>\n",
       "      <th>operator</th>\n",
       "      <th>address</th>\n",
       "      <th>house_number</th>\n",
       "      <th>placeholder1</th>\n",
       "      <th>postcode</th>\n",
       "      <th>city</th>\n",
       "      <th>federal_state</th>\n",
       "      <th>metropolitan_area</th>\n",
       "      <th>latitude_[dg]</th>\n",
       "      <th>longitude_[dg]</th>\n",
       "      <th>...</th>\n",
       "      <th>number_of_charging_points</th>\n",
       "      <th>type_of_plug_1</th>\n",
       "      <th>p1_[kw]</th>\n",
       "      <th>type_of_plug_2</th>\n",
       "      <th>p2_[kw]</th>\n",
       "      <th>type_of_plug_3</th>\n",
       "      <th>p3_[kw]</th>\n",
       "      <th>type_of_plug_4</th>\n",
       "      <th>p4_[kw]</th>\n",
       "      <th>year</th>\n",
       "    </tr>\n",
       "  </thead>\n",
       "  <tbody>\n",
       "    <tr>\n",
       "      <th>0</th>\n",
       "      <td>EnBW mobility+ AG und Co.KG</td>\n",
       "      <td>Hauptstraï¿½e</td>\n",
       "      <td>91c</td>\n",
       "      <td>NaN</td>\n",
       "      <td>73340</td>\n",
       "      <td>Amstetten</td>\n",
       "      <td>Baden-Wï¿½rttemberg</td>\n",
       "      <td>Landkreis Alb-Donau-Kreis</td>\n",
       "      <td>48.578534</td>\n",
       "      <td>9.874840</td>\n",
       "      <td>...</td>\n",
       "      <td>2</td>\n",
       "      <td>AC Kupplung Typ 2</td>\n",
       "      <td>43.0</td>\n",
       "      <td>DC Kupplung Combo, DC CHAdeMO</td>\n",
       "      <td>50.0</td>\n",
       "      <td>0</td>\n",
       "      <td>0.0</td>\n",
       "      <td>0</td>\n",
       "      <td>0.0</td>\n",
       "      <td>2019</td>\n",
       "    </tr>\n",
       "    <tr>\n",
       "      <th>1</th>\n",
       "      <td>SWU Energie GmbH</td>\n",
       "      <td>Lindenstraï¿½e</td>\n",
       "      <td>7</td>\n",
       "      <td>NaN</td>\n",
       "      <td>89176</td>\n",
       "      <td>Asselfingen</td>\n",
       "      <td>Baden-Wï¿½rttemberg</td>\n",
       "      <td>Landkreis Alb-Donau-Kreis</td>\n",
       "      <td>48.528983</td>\n",
       "      <td>10.193397</td>\n",
       "      <td>...</td>\n",
       "      <td>1</td>\n",
       "      <td>AC Steckdose Typ 2</td>\n",
       "      <td>22.0</td>\n",
       "      <td>0</td>\n",
       "      <td>0.0</td>\n",
       "      <td>0</td>\n",
       "      <td>0.0</td>\n",
       "      <td>0</td>\n",
       "      <td>0.0</td>\n",
       "      <td>2019</td>\n",
       "    </tr>\n",
       "    <tr>\n",
       "      <th>2</th>\n",
       "      <td>SWU Energie GmbH</td>\n",
       "      <td>ï¿½llengasse</td>\n",
       "      <td>10</td>\n",
       "      <td>NaN</td>\n",
       "      <td>89177</td>\n",
       "      <td>Ballendorf</td>\n",
       "      <td>Baden-Wï¿½rttemberg</td>\n",
       "      <td>Landkreis Alb-Donau-Kreis</td>\n",
       "      <td>48.553539</td>\n",
       "      <td>10.082678</td>\n",
       "      <td>...</td>\n",
       "      <td>1</td>\n",
       "      <td>AC Steckdose Typ 2</td>\n",
       "      <td>22.0</td>\n",
       "      <td>AC Steckdose Typ 2</td>\n",
       "      <td>22.0</td>\n",
       "      <td>0</td>\n",
       "      <td>0.0</td>\n",
       "      <td>0</td>\n",
       "      <td>0.0</td>\n",
       "      <td>2019</td>\n",
       "    </tr>\n",
       "    <tr>\n",
       "      <th>3</th>\n",
       "      <td>SWU Energie GmbH</td>\n",
       "      <td>Sterngasse</td>\n",
       "      <td>6</td>\n",
       "      <td>NaN</td>\n",
       "      <td>88481</td>\n",
       "      <td>Balzheim</td>\n",
       "      <td>Baden-Wï¿½rttemberg</td>\n",
       "      <td>Landkreis Alb-Donau-Kreis</td>\n",
       "      <td>48.179959</td>\n",
       "      <td>10.076977</td>\n",
       "      <td>...</td>\n",
       "      <td>1</td>\n",
       "      <td>AC Steckdose Typ 2</td>\n",
       "      <td>22.0</td>\n",
       "      <td>0</td>\n",
       "      <td>0.0</td>\n",
       "      <td>0</td>\n",
       "      <td>0.0</td>\n",
       "      <td>0</td>\n",
       "      <td>0.0</td>\n",
       "      <td>2022</td>\n",
       "    </tr>\n",
       "    <tr>\n",
       "      <th>4</th>\n",
       "      <td>EnBW mobility+ AG und Co.KG</td>\n",
       "      <td>Heuweg</td>\n",
       "      <td>12</td>\n",
       "      <td>NaN</td>\n",
       "      <td>89179</td>\n",
       "      <td>Beimerstetten</td>\n",
       "      <td>Baden-Wï¿½rttemberg</td>\n",
       "      <td>Landkreis Alb-Donau-Kreis</td>\n",
       "      <td>48.480387</td>\n",
       "      <td>9.980588</td>\n",
       "      <td>...</td>\n",
       "      <td>2</td>\n",
       "      <td>AC Steckdose Typ 2, AC Schuko</td>\n",
       "      <td>22.0</td>\n",
       "      <td>AC Steckdose Typ 2, AC Schuko</td>\n",
       "      <td>22.0</td>\n",
       "      <td>0</td>\n",
       "      <td>0.0</td>\n",
       "      <td>0</td>\n",
       "      <td>0.0</td>\n",
       "      <td>2019</td>\n",
       "    </tr>\n",
       "  </tbody>\n",
       "</table>\n",
       "<p>5 rows × 23 columns</p>\n",
       "</div>"
      ],
      "text/plain": [
       "                      operator         address house_number placeholder1  \\\n",
       "0  EnBW mobility+ AG und Co.KG   Hauptstraï¿½e          91c          NaN   \n",
       "1             SWU Energie GmbH  Lindenstraï¿½e            7          NaN   \n",
       "2             SWU Energie GmbH    ï¿½llengasse           10          NaN   \n",
       "3             SWU Energie GmbH      Sterngasse            6          NaN   \n",
       "4  EnBW mobility+ AG und Co.KG          Heuweg           12          NaN   \n",
       "\n",
       "   postcode           city        federal_state          metropolitan_area  \\\n",
       "0     73340      Amstetten  Baden-Wï¿½rttemberg  Landkreis Alb-Donau-Kreis   \n",
       "1     89176    Asselfingen  Baden-Wï¿½rttemberg  Landkreis Alb-Donau-Kreis   \n",
       "2     89177     Ballendorf  Baden-Wï¿½rttemberg  Landkreis Alb-Donau-Kreis   \n",
       "3     88481       Balzheim  Baden-Wï¿½rttemberg  Landkreis Alb-Donau-Kreis   \n",
       "4     89179  Beimerstetten  Baden-Wï¿½rttemberg  Landkreis Alb-Donau-Kreis   \n",
       "\n",
       "   latitude_[dg]  longitude_[dg]  ... number_of_charging_points  \\\n",
       "0      48.578534        9.874840  ...                         2   \n",
       "1      48.528983       10.193397  ...                         1   \n",
       "2      48.553539       10.082678  ...                         1   \n",
       "3      48.179959       10.076977  ...                         1   \n",
       "4      48.480387        9.980588  ...                         2   \n",
       "\n",
       "                  type_of_plug_1 p1_[kw]                 type_of_plug_2  \\\n",
       "0              AC Kupplung Typ 2    43.0  DC Kupplung Combo, DC CHAdeMO   \n",
       "1             AC Steckdose Typ 2    22.0                              0   \n",
       "2             AC Steckdose Typ 2    22.0             AC Steckdose Typ 2   \n",
       "3             AC Steckdose Typ 2    22.0                              0   \n",
       "4  AC Steckdose Typ 2, AC Schuko    22.0  AC Steckdose Typ 2, AC Schuko   \n",
       "\n",
       "  p2_[kw]  type_of_plug_3 p3_[kw]  type_of_plug_4 p4_[kw]  year  \n",
       "0    50.0               0     0.0               0     0.0  2019  \n",
       "1     0.0               0     0.0               0     0.0  2019  \n",
       "2    22.0               0     0.0               0     0.0  2019  \n",
       "3     0.0               0     0.0               0     0.0  2022  \n",
       "4    22.0               0     0.0               0     0.0  2019  \n",
       "\n",
       "[5 rows x 23 columns]"
      ]
     },
     "execution_count": 20,
     "metadata": {},
     "output_type": "execute_result"
    }
   ],
   "source": [
    "data.head()"
   ]
  },
  {
   "cell_type": "code",
   "execution_count": 21,
   "metadata": {},
   "outputs": [],
   "source": [
    "def create_network(year, max_distance=100):\n",
    "    data_year = data[data['year'] <= year]\n",
    "    n = len(data_year)\n",
    "    positions = data_year[['latitude_[dg]', 'longitude_[dg]']].to_numpy()\n",
    "\n",
    "    # Converti le coordinate geografiche in coordinate UTM\n",
    "    transformer = Transformer.from_crs('epsg:4326', 'epsg:32632', always_xy=True)\n",
    "    positions_utm = np.array([transformer.transform(x[1], x[0]) for x in positions])\n",
    "\n",
    "    network = nx.Graph()\n",
    "    \n",
    "    # Aggiungi i nodi al grafo con attributi di latitudine e longitudine\n",
    "    for i in tqdm(range(n), desc=\"Adding nodes\"):\n",
    "        network.add_node(i + 1, latitude=positions[i, 0], longitude=positions[i, 1])\n",
    "\n",
    "    for i in tqdm(range(n), desc=\"Adding edges\"):\n",
    "        for j in range(i + 1, n):  # Evita di ripetere gli archi\n",
    "            # distance = get_osrm_distance(positions_utm[i, 0], positions_utm[i, 1], positions_utm[j, 0], positions_utm[j, 1])\n",
    "            distance = get_osrm_distance(positions[i, 0], positions[i, 1], positions[j, 0], positions[j, 1])\n",
    "            if distance is not None and distance < max_distance * 1000:  # Converti max_distance in metri\n",
    "                network.add_edge(i + 1, j + 1, weight=distance)\n",
    "\n",
    "    pos = {i + 1: positions_utm[i] for i in range(n)}\n",
    "\n",
    "    options = {\n",
    "        'node_color': 'lavender',\n",
    "        'node_size': 100,\n",
    "        'width': 1,\n",
    "        # 'arrowstyle': '->',\n",
    "        'arrowsize': 1,\n",
    "    }\n",
    "\n",
    "    # # Leggi il file GeoJSON dei confini della Germania\n",
    "    # germany_boundary = gpd.read_file('https://raw.githubusercontent.com/isellsoap/deutschlandGeoJSON/4090d4e1f89c1184b436b3d9ccaf332b4c5b43d2/2_bundeslaender/4_niedrig.geo.json')\n",
    "\n",
    "    # # Converti le coordinate geografiche in coordinate UTM\n",
    "    # germany_boundary = germany_boundary.to_crs('epsg:32632')\n",
    "\n",
    "    # # Crea un nuovo plot\n",
    "    # fig, ax = plt.subplots(figsize=(12, 8))\n",
    "\n",
    "    # # Disegna i confini della Germania\n",
    "    # germany_boundary.boundary.plot(ax=ax, linewidth=1, color='red')\n",
    "\n",
    "    # # Disegna il network\n",
    "    # nx.draw_networkx(network, pos=pos, ax=ax, **options)\n",
    "\n",
    "    # # Crea le cartelle se non esistono\n",
    "    # if not os.path.exists(\"network_graphs_figure\"):\n",
    "    #     os.makedirs(\"network_graphs_figure\")\n",
    "    # if not os.path.exists(\"network_graphs_save\"):\n",
    "    #     os.makedirs(\"network_graphs_save\")\n",
    "\n",
    "    # # Imposta i titoli e visualizza il grafico\n",
    "    # plt.title(f'EV charging stations network ({year}) of BEV with 100 km range', fontsize=15)\n",
    "    # plt.show()\n",
    "\n",
    "    # nx.write_graphml(network, f\"network_graphs_save/network_{year}_{max_distance}.graphml\")\n",
    "    \n",
    "    # # Salva il grafico come file PNG nella cartella \"network_graphs_figure\"\n",
    "    # fig.savefig(f\"network_graphs_figure/network_{year}_{max_distance}.png\", dpi=300, bbox_inches=\"tight\")\n",
    "\n",
    "    # Leggi il file GeoJSON dei confini della Germania\n",
    "    germany_boundary = gpd.read_file('https://raw.githubusercontent.com/isellsoap/deutschlandGeoJSON/4090d4e1f89c1184b436b3d9ccaf332b4c5b43d2/2_bundeslaender/4_niedrig.geo.json')\n",
    "\n",
    "    # Converti le coordinate geografiche in coordinate UTM\n",
    "    germany_boundary = germany_boundary.to_crs('epsg:32632')\n",
    "\n",
    "\n",
    "\n",
    "    # ================================================== Graph\n",
    "    # # Crea un nuovo plot\n",
    "    # p = figure(x_axis_label='X', y_axis_label='Y', toolbar_location=None)\n",
    "    # p.xaxis.visible = False\n",
    "    # p.yaxis.visible = False\n",
    "\n",
    "    # # Aggiungi gli archi al plot\n",
    "    # edge_xs = [[pos[edge[0]][0], pos[edge[1]][0]] for edge in network.edges()]\n",
    "    # edge_ys = [[pos[edge[0]][1], pos[edge[1]][1]] for edge in network.edges()]\n",
    "\n",
    "    # source_edges = ColumnDataSource(dict(xs=edge_xs, ys=edge_ys))\n",
    "    # p.add_glyph(source_edges, MultiLine(xs='xs', ys='ys', line_color='black'))\n",
    "\n",
    "    # # Aggiungi i nodi al plot\n",
    "    # source_nodes = ColumnDataSource(dict(x=[p[0] for p in pos.values()], y=[p[1] for p in pos.values()]))\n",
    "    # p.circle(x='x', y='y', size=5, color='lavender', source=source_nodes)\n",
    "\n",
    "    # # Disegna i confini della Germania\n",
    "    # for _, row in germany_boundary.iterrows():\n",
    "    #     if row['geometry'].geom_type == 'Polygon':\n",
    "    #         xs, ys = row['geometry'].exterior.xy\n",
    "    #         p.line(xs, ys, color='red', line_width=2)\n",
    "    #     elif row['geometry'].geom_type == 'MultiPolygon':\n",
    "    #         for polygon in row['geometry'].geoms:\n",
    "    #             xs, ys = polygon.exterior.xy\n",
    "    #             p.line(xs, ys, color='red', line_width=2)\n",
    "\n",
    "    # # Aggiungi gli archi al plot\n",
    "    # edge_xs = [[pos[edge[0]][0], pos[edge[1]][0]] for edge in network.edges()]\n",
    "    # edge_ys = [[pos[edge[0]][1], pos[edge[1]][1]] for edge in network.edges()]\n",
    "\n",
    "    # source_edges = ColumnDataSource(dict(xs=edge_xs, ys=edge_ys))\n",
    "    # p.add_glyph(source_edges, MultiLine(xs='xs', ys='ys', line_color='black'))\n",
    "\n",
    "    # # Aggiungi i nodi al plot\n",
    "    # source_nodes = ColumnDataSource(dict(x=[p[0] for p in pos.values()], y=[p[1] for p in pos.values()]))\n",
    "    # p.circle(x='x', y='y', size=5, color='lavender', source=source_nodes)\n",
    "\n",
    "    # # Aggiungi le etichette dei nodi\n",
    "    # source_labels = ColumnDataSource(data=dict(x=list(x for x, _ in pos.values()), y=list(y for _, y in pos.values()), text=list(network.nodes())))\n",
    "    # labels = LabelSet(x='x', y='y', text='text', source=source_labels, text_color='black', text_font_size='8pt', x_offset=5, y_offset=5)\n",
    "    # p.add_layout(labels)\n",
    "\n",
    "    # # Visualizza il grafico\n",
    "    # output_file(f\"network_graphs_figure/network_{year}_{max_distance}.html\")  # Salva il grafico come file HTML\n",
    "    # # show(p)  # Mostra il grafico in una nuova finestra del browser\n",
    "\n",
    "    # # Crea un'istanza del WebDriver di Safari\n",
    "    # safari_driver = webdriver.Safari()\n",
    "\n",
    "    # # Salva il grafico come file PNG nella cartella \"network_graphs_figure\"\n",
    "    # export_png(p, filename=f\"network_graphs_figure/network_bokeh_{year}_{max_distance}.png\", webdriver=safari_driver)\n",
    "\n"
   ]
  },
  {
   "cell_type": "code",
   "execution_count": 22,
   "metadata": {},
   "outputs": [],
   "source": [
    "# create_network(2009)"
   ]
  },
  {
   "cell_type": "code",
   "execution_count": 23,
   "metadata": {},
   "outputs": [],
   "source": [
    "# create_network(2010)"
   ]
  },
  {
   "cell_type": "code",
   "execution_count": 24,
   "metadata": {},
   "outputs": [],
   "source": [
    "# create_network(2011)"
   ]
  },
  {
   "cell_type": "code",
   "execution_count": 25,
   "metadata": {},
   "outputs": [],
   "source": [
    "# create_network(2012)"
   ]
  },
  {
   "cell_type": "code",
   "execution_count": 26,
   "metadata": {},
   "outputs": [],
   "source": [
    "# create_network(2013)"
   ]
  },
  {
   "cell_type": "code",
   "execution_count": 27,
   "metadata": {},
   "outputs": [],
   "source": [
    "# create_network(2014)"
   ]
  },
  {
   "cell_type": "code",
   "execution_count": 28,
   "metadata": {},
   "outputs": [],
   "source": [
    "# create_network(2015)"
   ]
  },
  {
   "cell_type": "code",
   "execution_count": 29,
   "metadata": {},
   "outputs": [],
   "source": [
    "# create_network(2016)"
   ]
  },
  {
   "cell_type": "code",
   "execution_count": 30,
   "metadata": {},
   "outputs": [],
   "source": [
    "# create_network(2017)"
   ]
  },
  {
   "cell_type": "code",
   "execution_count": 31,
   "metadata": {},
   "outputs": [],
   "source": [
    "# create_network(2018)"
   ]
  },
  {
   "cell_type": "code",
   "execution_count": 32,
   "metadata": {},
   "outputs": [],
   "source": [
    "# create_network(2019)"
   ]
  },
  {
   "cell_type": "code",
   "execution_count": 33,
   "metadata": {},
   "outputs": [
    {
     "name": "stderr",
     "output_type": "stream",
     "text": [
      "Adding nodes: 100%|██████████| 18279/18279 [00:00<00:00, 934356.43it/s]\n",
      "Adding edges: 100%|██████████| 18279/18279 [07:55<00:00, 38.42it/s]  \n"
     ]
    }
   ],
   "source": [
    "# create_network(2020)"
   ]
  },
  {
   "cell_type": "code",
   "execution_count": 34,
   "metadata": {},
   "outputs": [
    {
     "name": "stderr",
     "output_type": "stream",
     "text": [
      "Adding nodes: 100%|██████████| 25252/25252 [00:00<00:00, 927529.25it/s]\n",
      "Adding edges:  50%|████▉     | 12533/25252 [7:14:28<7:20:55,  2.08s/it]  \n"
     ]
    },
    {
     "ename": "KeyboardInterrupt",
     "evalue": "",
     "output_type": "error",
     "traceback": [
      "\u001b[0;31m---------------------------------------------------------------------------\u001b[0m",
      "\u001b[0;31mKeyboardInterrupt\u001b[0m                         Traceback (most recent call last)",
      "Cell \u001b[0;32mIn[34], line 1\u001b[0m\n\u001b[0;32m----> 1\u001b[0m create_network(\u001b[39m2021\u001b[39;49m)\n",
      "Cell \u001b[0;32mIn[21], line 19\u001b[0m, in \u001b[0;36mcreate_network\u001b[0;34m(year, max_distance)\u001b[0m\n\u001b[1;32m     16\u001b[0m \u001b[39mfor\u001b[39;00m i \u001b[39min\u001b[39;00m tqdm(\u001b[39mrange\u001b[39m(n), desc\u001b[39m=\u001b[39m\u001b[39m\"\u001b[39m\u001b[39mAdding edges\u001b[39m\u001b[39m\"\u001b[39m):\n\u001b[1;32m     17\u001b[0m     \u001b[39mfor\u001b[39;00m j \u001b[39min\u001b[39;00m \u001b[39mrange\u001b[39m(i \u001b[39m+\u001b[39m \u001b[39m1\u001b[39m, n):  \u001b[39m# Evita di ripetere gli archi\u001b[39;00m\n\u001b[1;32m     18\u001b[0m         \u001b[39m# distance = get_osrm_distance(positions_utm[i, 0], positions_utm[i, 1], positions_utm[j, 0], positions_utm[j, 1])\u001b[39;00m\n\u001b[0;32m---> 19\u001b[0m         distance \u001b[39m=\u001b[39m get_osrm_distance(positions[i, \u001b[39m0\u001b[39;49m], positions[i, \u001b[39m1\u001b[39;49m], positions[j, \u001b[39m0\u001b[39;49m], positions[j, \u001b[39m1\u001b[39;49m])\n\u001b[1;32m     20\u001b[0m         \u001b[39mif\u001b[39;00m distance \u001b[39mis\u001b[39;00m \u001b[39mnot\u001b[39;00m \u001b[39mNone\u001b[39;00m \u001b[39mand\u001b[39;00m distance \u001b[39m<\u001b[39m max_distance \u001b[39m*\u001b[39m \u001b[39m1000\u001b[39m:  \u001b[39m# Converti max_distance in metri\u001b[39;00m\n\u001b[1;32m     21\u001b[0m             network\u001b[39m.\u001b[39madd_edge(i \u001b[39m+\u001b[39m \u001b[39m1\u001b[39m, j \u001b[39m+\u001b[39m \u001b[39m1\u001b[39m, weight\u001b[39m=\u001b[39mdistance)\n",
      "File \u001b[0;32m~/Desktop/DataAnalytics_Thesis/utils.py:50\u001b[0m, in \u001b[0;36mget_osrm_distance\u001b[0;34m(lat1, lon1, lat2, lon2)\u001b[0m\n\u001b[1;32m     48\u001b[0m \u001b[39melse\u001b[39;00m:\n\u001b[1;32m     49\u001b[0m     url \u001b[39m=\u001b[39m \u001b[39mf\u001b[39m\u001b[39m\"\u001b[39m\u001b[39mhttp://router.project-osrm.org/route/v1/driving/\u001b[39m\u001b[39m{\u001b[39;00mlon1\u001b[39m}\u001b[39;00m\u001b[39m,\u001b[39m\u001b[39m{\u001b[39;00mlat1\u001b[39m}\u001b[39;00m\u001b[39m;\u001b[39m\u001b[39m{\u001b[39;00mlon2\u001b[39m}\u001b[39;00m\u001b[39m,\u001b[39m\u001b[39m{\u001b[39;00mlat2\u001b[39m}\u001b[39;00m\u001b[39m?overview=false\u001b[39m\u001b[39m\"\u001b[39m\n\u001b[0;32m---> 50\u001b[0m     response \u001b[39m=\u001b[39m requests\u001b[39m.\u001b[39;49mget(url)\n\u001b[1;32m     52\u001b[0m     \u001b[39mif\u001b[39;00m response\u001b[39m.\u001b[39mstatus_code \u001b[39m==\u001b[39m \u001b[39m200\u001b[39m:\n\u001b[1;32m     53\u001b[0m         data \u001b[39m=\u001b[39m response\u001b[39m.\u001b[39mjson()\n",
      "File \u001b[0;32m/Library/Frameworks/Python.framework/Versions/3.10/lib/python3.10/site-packages/requests/api.py:73\u001b[0m, in \u001b[0;36mget\u001b[0;34m(url, params, **kwargs)\u001b[0m\n\u001b[1;32m     62\u001b[0m \u001b[39mdef\u001b[39;00m \u001b[39mget\u001b[39m(url, params\u001b[39m=\u001b[39m\u001b[39mNone\u001b[39;00m, \u001b[39m*\u001b[39m\u001b[39m*\u001b[39mkwargs):\n\u001b[1;32m     63\u001b[0m \u001b[39m    \u001b[39m\u001b[39mr\u001b[39m\u001b[39m\"\"\"Sends a GET request.\u001b[39;00m\n\u001b[1;32m     64\u001b[0m \n\u001b[1;32m     65\u001b[0m \u001b[39m    :param url: URL for the new :class:`Request` object.\u001b[39;00m\n\u001b[0;32m   (...)\u001b[0m\n\u001b[1;32m     70\u001b[0m \u001b[39m    :rtype: requests.Response\u001b[39;00m\n\u001b[1;32m     71\u001b[0m \u001b[39m    \"\"\"\u001b[39;00m\n\u001b[0;32m---> 73\u001b[0m     \u001b[39mreturn\u001b[39;00m request(\u001b[39m\"\u001b[39;49m\u001b[39mget\u001b[39;49m\u001b[39m\"\u001b[39;49m, url, params\u001b[39m=\u001b[39;49mparams, \u001b[39m*\u001b[39;49m\u001b[39m*\u001b[39;49mkwargs)\n",
      "File \u001b[0;32m/Library/Frameworks/Python.framework/Versions/3.10/lib/python3.10/site-packages/requests/api.py:59\u001b[0m, in \u001b[0;36mrequest\u001b[0;34m(method, url, **kwargs)\u001b[0m\n\u001b[1;32m     55\u001b[0m \u001b[39m# By using the 'with' statement we are sure the session is closed, thus we\u001b[39;00m\n\u001b[1;32m     56\u001b[0m \u001b[39m# avoid leaving sockets open which can trigger a ResourceWarning in some\u001b[39;00m\n\u001b[1;32m     57\u001b[0m \u001b[39m# cases, and look like a memory leak in others.\u001b[39;00m\n\u001b[1;32m     58\u001b[0m \u001b[39mwith\u001b[39;00m sessions\u001b[39m.\u001b[39mSession() \u001b[39mas\u001b[39;00m session:\n\u001b[0;32m---> 59\u001b[0m     \u001b[39mreturn\u001b[39;00m session\u001b[39m.\u001b[39;49mrequest(method\u001b[39m=\u001b[39;49mmethod, url\u001b[39m=\u001b[39;49murl, \u001b[39m*\u001b[39;49m\u001b[39m*\u001b[39;49mkwargs)\n",
      "File \u001b[0;32m/Library/Frameworks/Python.framework/Versions/3.10/lib/python3.10/site-packages/requests/sessions.py:587\u001b[0m, in \u001b[0;36mSession.request\u001b[0;34m(self, method, url, params, data, headers, cookies, files, auth, timeout, allow_redirects, proxies, hooks, stream, verify, cert, json)\u001b[0m\n\u001b[1;32m    582\u001b[0m send_kwargs \u001b[39m=\u001b[39m {\n\u001b[1;32m    583\u001b[0m     \u001b[39m\"\u001b[39m\u001b[39mtimeout\u001b[39m\u001b[39m\"\u001b[39m: timeout,\n\u001b[1;32m    584\u001b[0m     \u001b[39m\"\u001b[39m\u001b[39mallow_redirects\u001b[39m\u001b[39m\"\u001b[39m: allow_redirects,\n\u001b[1;32m    585\u001b[0m }\n\u001b[1;32m    586\u001b[0m send_kwargs\u001b[39m.\u001b[39mupdate(settings)\n\u001b[0;32m--> 587\u001b[0m resp \u001b[39m=\u001b[39m \u001b[39mself\u001b[39;49m\u001b[39m.\u001b[39;49msend(prep, \u001b[39m*\u001b[39;49m\u001b[39m*\u001b[39;49msend_kwargs)\n\u001b[1;32m    589\u001b[0m \u001b[39mreturn\u001b[39;00m resp\n",
      "File \u001b[0;32m/Library/Frameworks/Python.framework/Versions/3.10/lib/python3.10/site-packages/requests/sessions.py:701\u001b[0m, in \u001b[0;36mSession.send\u001b[0;34m(self, request, **kwargs)\u001b[0m\n\u001b[1;32m    698\u001b[0m start \u001b[39m=\u001b[39m preferred_clock()\n\u001b[1;32m    700\u001b[0m \u001b[39m# Send the request\u001b[39;00m\n\u001b[0;32m--> 701\u001b[0m r \u001b[39m=\u001b[39m adapter\u001b[39m.\u001b[39;49msend(request, \u001b[39m*\u001b[39;49m\u001b[39m*\u001b[39;49mkwargs)\n\u001b[1;32m    703\u001b[0m \u001b[39m# Total elapsed time of the request (approximately)\u001b[39;00m\n\u001b[1;32m    704\u001b[0m elapsed \u001b[39m=\u001b[39m preferred_clock() \u001b[39m-\u001b[39m start\n",
      "File \u001b[0;32m/Library/Frameworks/Python.framework/Versions/3.10/lib/python3.10/site-packages/requests/adapters.py:489\u001b[0m, in \u001b[0;36mHTTPAdapter.send\u001b[0;34m(self, request, stream, timeout, verify, cert, proxies)\u001b[0m\n\u001b[1;32m    487\u001b[0m \u001b[39mtry\u001b[39;00m:\n\u001b[1;32m    488\u001b[0m     \u001b[39mif\u001b[39;00m \u001b[39mnot\u001b[39;00m chunked:\n\u001b[0;32m--> 489\u001b[0m         resp \u001b[39m=\u001b[39m conn\u001b[39m.\u001b[39;49murlopen(\n\u001b[1;32m    490\u001b[0m             method\u001b[39m=\u001b[39;49mrequest\u001b[39m.\u001b[39;49mmethod,\n\u001b[1;32m    491\u001b[0m             url\u001b[39m=\u001b[39;49murl,\n\u001b[1;32m    492\u001b[0m             body\u001b[39m=\u001b[39;49mrequest\u001b[39m.\u001b[39;49mbody,\n\u001b[1;32m    493\u001b[0m             headers\u001b[39m=\u001b[39;49mrequest\u001b[39m.\u001b[39;49mheaders,\n\u001b[1;32m    494\u001b[0m             redirect\u001b[39m=\u001b[39;49m\u001b[39mFalse\u001b[39;49;00m,\n\u001b[1;32m    495\u001b[0m             assert_same_host\u001b[39m=\u001b[39;49m\u001b[39mFalse\u001b[39;49;00m,\n\u001b[1;32m    496\u001b[0m             preload_content\u001b[39m=\u001b[39;49m\u001b[39mFalse\u001b[39;49;00m,\n\u001b[1;32m    497\u001b[0m             decode_content\u001b[39m=\u001b[39;49m\u001b[39mFalse\u001b[39;49;00m,\n\u001b[1;32m    498\u001b[0m             retries\u001b[39m=\u001b[39;49m\u001b[39mself\u001b[39;49m\u001b[39m.\u001b[39;49mmax_retries,\n\u001b[1;32m    499\u001b[0m             timeout\u001b[39m=\u001b[39;49mtimeout,\n\u001b[1;32m    500\u001b[0m         )\n\u001b[1;32m    502\u001b[0m     \u001b[39m# Send the request.\u001b[39;00m\n\u001b[1;32m    503\u001b[0m     \u001b[39melse\u001b[39;00m:\n\u001b[1;32m    504\u001b[0m         \u001b[39mif\u001b[39;00m \u001b[39mhasattr\u001b[39m(conn, \u001b[39m\"\u001b[39m\u001b[39mproxy_pool\u001b[39m\u001b[39m\"\u001b[39m):\n",
      "File \u001b[0;32m/Library/Frameworks/Python.framework/Versions/3.10/lib/python3.10/site-packages/urllib3/connectionpool.py:703\u001b[0m, in \u001b[0;36mHTTPConnectionPool.urlopen\u001b[0;34m(self, method, url, body, headers, retries, redirect, assert_same_host, timeout, pool_timeout, release_conn, chunked, body_pos, **response_kw)\u001b[0m\n\u001b[1;32m    700\u001b[0m     \u001b[39mself\u001b[39m\u001b[39m.\u001b[39m_prepare_proxy(conn)\n\u001b[1;32m    702\u001b[0m \u001b[39m# Make the request on the httplib connection object.\u001b[39;00m\n\u001b[0;32m--> 703\u001b[0m httplib_response \u001b[39m=\u001b[39m \u001b[39mself\u001b[39;49m\u001b[39m.\u001b[39;49m_make_request(\n\u001b[1;32m    704\u001b[0m     conn,\n\u001b[1;32m    705\u001b[0m     method,\n\u001b[1;32m    706\u001b[0m     url,\n\u001b[1;32m    707\u001b[0m     timeout\u001b[39m=\u001b[39;49mtimeout_obj,\n\u001b[1;32m    708\u001b[0m     body\u001b[39m=\u001b[39;49mbody,\n\u001b[1;32m    709\u001b[0m     headers\u001b[39m=\u001b[39;49mheaders,\n\u001b[1;32m    710\u001b[0m     chunked\u001b[39m=\u001b[39;49mchunked,\n\u001b[1;32m    711\u001b[0m )\n\u001b[1;32m    713\u001b[0m \u001b[39m# If we're going to release the connection in ``finally:``, then\u001b[39;00m\n\u001b[1;32m    714\u001b[0m \u001b[39m# the response doesn't need to know about the connection. Otherwise\u001b[39;00m\n\u001b[1;32m    715\u001b[0m \u001b[39m# it will also try to release it and we'll have a double-release\u001b[39;00m\n\u001b[1;32m    716\u001b[0m \u001b[39m# mess.\u001b[39;00m\n\u001b[1;32m    717\u001b[0m response_conn \u001b[39m=\u001b[39m conn \u001b[39mif\u001b[39;00m \u001b[39mnot\u001b[39;00m release_conn \u001b[39melse\u001b[39;00m \u001b[39mNone\u001b[39;00m\n",
      "File \u001b[0;32m/Library/Frameworks/Python.framework/Versions/3.10/lib/python3.10/site-packages/urllib3/connectionpool.py:449\u001b[0m, in \u001b[0;36mHTTPConnectionPool._make_request\u001b[0;34m(self, conn, method, url, timeout, chunked, **httplib_request_kw)\u001b[0m\n\u001b[1;32m    444\u001b[0m             httplib_response \u001b[39m=\u001b[39m conn\u001b[39m.\u001b[39mgetresponse()\n\u001b[1;32m    445\u001b[0m         \u001b[39mexcept\u001b[39;00m \u001b[39mBaseException\u001b[39;00m \u001b[39mas\u001b[39;00m e:\n\u001b[1;32m    446\u001b[0m             \u001b[39m# Remove the TypeError from the exception chain in\u001b[39;00m\n\u001b[1;32m    447\u001b[0m             \u001b[39m# Python 3 (including for exceptions like SystemExit).\u001b[39;00m\n\u001b[1;32m    448\u001b[0m             \u001b[39m# Otherwise it looks like a bug in the code.\u001b[39;00m\n\u001b[0;32m--> 449\u001b[0m             six\u001b[39m.\u001b[39;49mraise_from(e, \u001b[39mNone\u001b[39;49;00m)\n\u001b[1;32m    450\u001b[0m \u001b[39mexcept\u001b[39;00m (SocketTimeout, BaseSSLError, SocketError) \u001b[39mas\u001b[39;00m e:\n\u001b[1;32m    451\u001b[0m     \u001b[39mself\u001b[39m\u001b[39m.\u001b[39m_raise_timeout(err\u001b[39m=\u001b[39me, url\u001b[39m=\u001b[39murl, timeout_value\u001b[39m=\u001b[39mread_timeout)\n",
      "File \u001b[0;32m<string>:3\u001b[0m, in \u001b[0;36mraise_from\u001b[0;34m(value, from_value)\u001b[0m\n",
      "File \u001b[0;32m/Library/Frameworks/Python.framework/Versions/3.10/lib/python3.10/site-packages/urllib3/connectionpool.py:444\u001b[0m, in \u001b[0;36mHTTPConnectionPool._make_request\u001b[0;34m(self, conn, method, url, timeout, chunked, **httplib_request_kw)\u001b[0m\n\u001b[1;32m    441\u001b[0m \u001b[39mexcept\u001b[39;00m \u001b[39mTypeError\u001b[39;00m:\n\u001b[1;32m    442\u001b[0m     \u001b[39m# Python 3\u001b[39;00m\n\u001b[1;32m    443\u001b[0m     \u001b[39mtry\u001b[39;00m:\n\u001b[0;32m--> 444\u001b[0m         httplib_response \u001b[39m=\u001b[39m conn\u001b[39m.\u001b[39;49mgetresponse()\n\u001b[1;32m    445\u001b[0m     \u001b[39mexcept\u001b[39;00m \u001b[39mBaseException\u001b[39;00m \u001b[39mas\u001b[39;00m e:\n\u001b[1;32m    446\u001b[0m         \u001b[39m# Remove the TypeError from the exception chain in\u001b[39;00m\n\u001b[1;32m    447\u001b[0m         \u001b[39m# Python 3 (including for exceptions like SystemExit).\u001b[39;00m\n\u001b[1;32m    448\u001b[0m         \u001b[39m# Otherwise it looks like a bug in the code.\u001b[39;00m\n\u001b[1;32m    449\u001b[0m         six\u001b[39m.\u001b[39mraise_from(e, \u001b[39mNone\u001b[39;00m)\n",
      "File \u001b[0;32m/Library/Frameworks/Python.framework/Versions/3.10/lib/python3.10/http/client.py:1368\u001b[0m, in \u001b[0;36mHTTPConnection.getresponse\u001b[0;34m(self)\u001b[0m\n\u001b[1;32m   1366\u001b[0m \u001b[39mtry\u001b[39;00m:\n\u001b[1;32m   1367\u001b[0m     \u001b[39mtry\u001b[39;00m:\n\u001b[0;32m-> 1368\u001b[0m         response\u001b[39m.\u001b[39;49mbegin()\n\u001b[1;32m   1369\u001b[0m     \u001b[39mexcept\u001b[39;00m \u001b[39mConnectionError\u001b[39;00m:\n\u001b[1;32m   1370\u001b[0m         \u001b[39mself\u001b[39m\u001b[39m.\u001b[39mclose()\n",
      "File \u001b[0;32m/Library/Frameworks/Python.framework/Versions/3.10/lib/python3.10/http/client.py:317\u001b[0m, in \u001b[0;36mHTTPResponse.begin\u001b[0;34m(self)\u001b[0m\n\u001b[1;32m    315\u001b[0m \u001b[39m# read until we get a non-100 response\u001b[39;00m\n\u001b[1;32m    316\u001b[0m \u001b[39mwhile\u001b[39;00m \u001b[39mTrue\u001b[39;00m:\n\u001b[0;32m--> 317\u001b[0m     version, status, reason \u001b[39m=\u001b[39m \u001b[39mself\u001b[39;49m\u001b[39m.\u001b[39;49m_read_status()\n\u001b[1;32m    318\u001b[0m     \u001b[39mif\u001b[39;00m status \u001b[39m!=\u001b[39m CONTINUE:\n\u001b[1;32m    319\u001b[0m         \u001b[39mbreak\u001b[39;00m\n",
      "File \u001b[0;32m/Library/Frameworks/Python.framework/Versions/3.10/lib/python3.10/http/client.py:278\u001b[0m, in \u001b[0;36mHTTPResponse._read_status\u001b[0;34m(self)\u001b[0m\n\u001b[1;32m    277\u001b[0m \u001b[39mdef\u001b[39;00m \u001b[39m_read_status\u001b[39m(\u001b[39mself\u001b[39m):\n\u001b[0;32m--> 278\u001b[0m     line \u001b[39m=\u001b[39m \u001b[39mstr\u001b[39m(\u001b[39mself\u001b[39;49m\u001b[39m.\u001b[39;49mfp\u001b[39m.\u001b[39;49mreadline(_MAXLINE \u001b[39m+\u001b[39;49m \u001b[39m1\u001b[39;49m), \u001b[39m\"\u001b[39m\u001b[39miso-8859-1\u001b[39m\u001b[39m\"\u001b[39m)\n\u001b[1;32m    279\u001b[0m     \u001b[39mif\u001b[39;00m \u001b[39mlen\u001b[39m(line) \u001b[39m>\u001b[39m _MAXLINE:\n\u001b[1;32m    280\u001b[0m         \u001b[39mraise\u001b[39;00m LineTooLong(\u001b[39m\"\u001b[39m\u001b[39mstatus line\u001b[39m\u001b[39m\"\u001b[39m)\n",
      "File \u001b[0;32m/Library/Frameworks/Python.framework/Versions/3.10/lib/python3.10/socket.py:705\u001b[0m, in \u001b[0;36mSocketIO.readinto\u001b[0;34m(self, b)\u001b[0m\n\u001b[1;32m    703\u001b[0m \u001b[39mwhile\u001b[39;00m \u001b[39mTrue\u001b[39;00m:\n\u001b[1;32m    704\u001b[0m     \u001b[39mtry\u001b[39;00m:\n\u001b[0;32m--> 705\u001b[0m         \u001b[39mreturn\u001b[39;00m \u001b[39mself\u001b[39;49m\u001b[39m.\u001b[39;49m_sock\u001b[39m.\u001b[39;49mrecv_into(b)\n\u001b[1;32m    706\u001b[0m     \u001b[39mexcept\u001b[39;00m timeout:\n\u001b[1;32m    707\u001b[0m         \u001b[39mself\u001b[39m\u001b[39m.\u001b[39m_timeout_occurred \u001b[39m=\u001b[39m \u001b[39mTrue\u001b[39;00m\n",
      "\u001b[0;31mKeyboardInterrupt\u001b[0m: "
     ]
    }
   ],
   "source": [
    "# create_network(2021)"
   ]
  },
  {
   "cell_type": "code",
   "execution_count": null,
   "metadata": {},
   "outputs": [
    {
     "name": "stderr",
     "output_type": "stream",
     "text": [
      "Adding nodes: 100%|██████████| 29733/29733 [00:00<00:00, 979348.36it/s]\n",
      "Adding edges:  50%|████▉     | 14728/29733 [50:15<51:12,  4.88it/s]   \n"
     ]
    },
    {
     "ename": "KeyboardInterrupt",
     "evalue": "",
     "output_type": "error",
     "traceback": [
      "\u001b[0;31m---------------------------------------------------------------------------\u001b[0m",
      "\u001b[0;31mKeyboardInterrupt\u001b[0m                         Traceback (most recent call last)",
      "Cell \u001b[0;32mIn[163], line 1\u001b[0m\n\u001b[0;32m----> 1\u001b[0m create_network(\u001b[39m2022\u001b[39;49m)\n",
      "Cell \u001b[0;32mIn[149], line 19\u001b[0m, in \u001b[0;36mcreate_network\u001b[0;34m(year, max_distance)\u001b[0m\n\u001b[1;32m     16\u001b[0m \u001b[39mfor\u001b[39;00m i \u001b[39min\u001b[39;00m tqdm(\u001b[39mrange\u001b[39m(n), desc\u001b[39m=\u001b[39m\u001b[39m\"\u001b[39m\u001b[39mAdding edges\u001b[39m\u001b[39m\"\u001b[39m):\n\u001b[1;32m     17\u001b[0m     \u001b[39mfor\u001b[39;00m j \u001b[39min\u001b[39;00m \u001b[39mrange\u001b[39m(i \u001b[39m+\u001b[39m \u001b[39m1\u001b[39m, n):  \u001b[39m# Evita di ripetere gli archi\u001b[39;00m\n\u001b[1;32m     18\u001b[0m         \u001b[39m# distance = get_osrm_distance(positions_utm[i, 0], positions_utm[i, 1], positions_utm[j, 0], positions_utm[j, 1])\u001b[39;00m\n\u001b[0;32m---> 19\u001b[0m         distance \u001b[39m=\u001b[39m get_osrm_distance(positions[i, \u001b[39m0\u001b[39;49m], positions[i, \u001b[39m1\u001b[39;49m], positions[j, \u001b[39m0\u001b[39;49m], positions[j, \u001b[39m1\u001b[39;49m])\n\u001b[1;32m     20\u001b[0m         \u001b[39mif\u001b[39;00m distance \u001b[39mis\u001b[39;00m \u001b[39mnot\u001b[39;00m \u001b[39mNone\u001b[39;00m \u001b[39mand\u001b[39;00m distance \u001b[39m<\u001b[39m max_distance \u001b[39m*\u001b[39m \u001b[39m1000\u001b[39m:  \u001b[39m# Converti max_distance in metri\u001b[39;00m\n\u001b[1;32m     21\u001b[0m             network\u001b[39m.\u001b[39madd_edge(i \u001b[39m+\u001b[39m \u001b[39m1\u001b[39m, j \u001b[39m+\u001b[39m \u001b[39m1\u001b[39m, weight\u001b[39m=\u001b[39mdistance)\n",
      "File \u001b[0;32m~/Desktop/DataAnalytics_Thesis/utils.py:50\u001b[0m, in \u001b[0;36mget_osrm_distance\u001b[0;34m(lat1, lon1, lat2, lon2)\u001b[0m\n\u001b[1;32m     48\u001b[0m \u001b[39melse\u001b[39;00m:\n\u001b[1;32m     49\u001b[0m     url \u001b[39m=\u001b[39m \u001b[39mf\u001b[39m\u001b[39m\"\u001b[39m\u001b[39mhttp://router.project-osrm.org/route/v1/driving/\u001b[39m\u001b[39m{\u001b[39;00mlon1\u001b[39m}\u001b[39;00m\u001b[39m,\u001b[39m\u001b[39m{\u001b[39;00mlat1\u001b[39m}\u001b[39;00m\u001b[39m;\u001b[39m\u001b[39m{\u001b[39;00mlon2\u001b[39m}\u001b[39;00m\u001b[39m,\u001b[39m\u001b[39m{\u001b[39;00mlat2\u001b[39m}\u001b[39;00m\u001b[39m?overview=false\u001b[39m\u001b[39m\"\u001b[39m\n\u001b[0;32m---> 50\u001b[0m     response \u001b[39m=\u001b[39m requests\u001b[39m.\u001b[39;49mget(url)\n\u001b[1;32m     52\u001b[0m     \u001b[39mif\u001b[39;00m response\u001b[39m.\u001b[39mstatus_code \u001b[39m==\u001b[39m \u001b[39m200\u001b[39m:\n\u001b[1;32m     53\u001b[0m         data \u001b[39m=\u001b[39m response\u001b[39m.\u001b[39mjson()\n",
      "File \u001b[0;32m/Library/Frameworks/Python.framework/Versions/3.10/lib/python3.10/site-packages/requests/api.py:73\u001b[0m, in \u001b[0;36mget\u001b[0;34m(url, params, **kwargs)\u001b[0m\n\u001b[1;32m     62\u001b[0m \u001b[39mdef\u001b[39;00m \u001b[39mget\u001b[39m(url, params\u001b[39m=\u001b[39m\u001b[39mNone\u001b[39;00m, \u001b[39m*\u001b[39m\u001b[39m*\u001b[39mkwargs):\n\u001b[1;32m     63\u001b[0m \u001b[39m    \u001b[39m\u001b[39mr\u001b[39m\u001b[39m\"\"\"Sends a GET request.\u001b[39;00m\n\u001b[1;32m     64\u001b[0m \n\u001b[1;32m     65\u001b[0m \u001b[39m    :param url: URL for the new :class:`Request` object.\u001b[39;00m\n\u001b[0;32m   (...)\u001b[0m\n\u001b[1;32m     70\u001b[0m \u001b[39m    :rtype: requests.Response\u001b[39;00m\n\u001b[1;32m     71\u001b[0m \u001b[39m    \"\"\"\u001b[39;00m\n\u001b[0;32m---> 73\u001b[0m     \u001b[39mreturn\u001b[39;00m request(\u001b[39m\"\u001b[39;49m\u001b[39mget\u001b[39;49m\u001b[39m\"\u001b[39;49m, url, params\u001b[39m=\u001b[39;49mparams, \u001b[39m*\u001b[39;49m\u001b[39m*\u001b[39;49mkwargs)\n",
      "File \u001b[0;32m/Library/Frameworks/Python.framework/Versions/3.10/lib/python3.10/site-packages/requests/api.py:59\u001b[0m, in \u001b[0;36mrequest\u001b[0;34m(method, url, **kwargs)\u001b[0m\n\u001b[1;32m     55\u001b[0m \u001b[39m# By using the 'with' statement we are sure the session is closed, thus we\u001b[39;00m\n\u001b[1;32m     56\u001b[0m \u001b[39m# avoid leaving sockets open which can trigger a ResourceWarning in some\u001b[39;00m\n\u001b[1;32m     57\u001b[0m \u001b[39m# cases, and look like a memory leak in others.\u001b[39;00m\n\u001b[1;32m     58\u001b[0m \u001b[39mwith\u001b[39;00m sessions\u001b[39m.\u001b[39mSession() \u001b[39mas\u001b[39;00m session:\n\u001b[0;32m---> 59\u001b[0m     \u001b[39mreturn\u001b[39;00m session\u001b[39m.\u001b[39;49mrequest(method\u001b[39m=\u001b[39;49mmethod, url\u001b[39m=\u001b[39;49murl, \u001b[39m*\u001b[39;49m\u001b[39m*\u001b[39;49mkwargs)\n",
      "File \u001b[0;32m/Library/Frameworks/Python.framework/Versions/3.10/lib/python3.10/site-packages/requests/sessions.py:587\u001b[0m, in \u001b[0;36mSession.request\u001b[0;34m(self, method, url, params, data, headers, cookies, files, auth, timeout, allow_redirects, proxies, hooks, stream, verify, cert, json)\u001b[0m\n\u001b[1;32m    582\u001b[0m send_kwargs \u001b[39m=\u001b[39m {\n\u001b[1;32m    583\u001b[0m     \u001b[39m\"\u001b[39m\u001b[39mtimeout\u001b[39m\u001b[39m\"\u001b[39m: timeout,\n\u001b[1;32m    584\u001b[0m     \u001b[39m\"\u001b[39m\u001b[39mallow_redirects\u001b[39m\u001b[39m\"\u001b[39m: allow_redirects,\n\u001b[1;32m    585\u001b[0m }\n\u001b[1;32m    586\u001b[0m send_kwargs\u001b[39m.\u001b[39mupdate(settings)\n\u001b[0;32m--> 587\u001b[0m resp \u001b[39m=\u001b[39m \u001b[39mself\u001b[39;49m\u001b[39m.\u001b[39;49msend(prep, \u001b[39m*\u001b[39;49m\u001b[39m*\u001b[39;49msend_kwargs)\n\u001b[1;32m    589\u001b[0m \u001b[39mreturn\u001b[39;00m resp\n",
      "File \u001b[0;32m/Library/Frameworks/Python.framework/Versions/3.10/lib/python3.10/site-packages/requests/sessions.py:701\u001b[0m, in \u001b[0;36mSession.send\u001b[0;34m(self, request, **kwargs)\u001b[0m\n\u001b[1;32m    698\u001b[0m start \u001b[39m=\u001b[39m preferred_clock()\n\u001b[1;32m    700\u001b[0m \u001b[39m# Send the request\u001b[39;00m\n\u001b[0;32m--> 701\u001b[0m r \u001b[39m=\u001b[39m adapter\u001b[39m.\u001b[39;49msend(request, \u001b[39m*\u001b[39;49m\u001b[39m*\u001b[39;49mkwargs)\n\u001b[1;32m    703\u001b[0m \u001b[39m# Total elapsed time of the request (approximately)\u001b[39;00m\n\u001b[1;32m    704\u001b[0m elapsed \u001b[39m=\u001b[39m preferred_clock() \u001b[39m-\u001b[39m start\n",
      "File \u001b[0;32m/Library/Frameworks/Python.framework/Versions/3.10/lib/python3.10/site-packages/requests/adapters.py:489\u001b[0m, in \u001b[0;36mHTTPAdapter.send\u001b[0;34m(self, request, stream, timeout, verify, cert, proxies)\u001b[0m\n\u001b[1;32m    487\u001b[0m \u001b[39mtry\u001b[39;00m:\n\u001b[1;32m    488\u001b[0m     \u001b[39mif\u001b[39;00m \u001b[39mnot\u001b[39;00m chunked:\n\u001b[0;32m--> 489\u001b[0m         resp \u001b[39m=\u001b[39m conn\u001b[39m.\u001b[39;49murlopen(\n\u001b[1;32m    490\u001b[0m             method\u001b[39m=\u001b[39;49mrequest\u001b[39m.\u001b[39;49mmethod,\n\u001b[1;32m    491\u001b[0m             url\u001b[39m=\u001b[39;49murl,\n\u001b[1;32m    492\u001b[0m             body\u001b[39m=\u001b[39;49mrequest\u001b[39m.\u001b[39;49mbody,\n\u001b[1;32m    493\u001b[0m             headers\u001b[39m=\u001b[39;49mrequest\u001b[39m.\u001b[39;49mheaders,\n\u001b[1;32m    494\u001b[0m             redirect\u001b[39m=\u001b[39;49m\u001b[39mFalse\u001b[39;49;00m,\n\u001b[1;32m    495\u001b[0m             assert_same_host\u001b[39m=\u001b[39;49m\u001b[39mFalse\u001b[39;49;00m,\n\u001b[1;32m    496\u001b[0m             preload_content\u001b[39m=\u001b[39;49m\u001b[39mFalse\u001b[39;49;00m,\n\u001b[1;32m    497\u001b[0m             decode_content\u001b[39m=\u001b[39;49m\u001b[39mFalse\u001b[39;49;00m,\n\u001b[1;32m    498\u001b[0m             retries\u001b[39m=\u001b[39;49m\u001b[39mself\u001b[39;49m\u001b[39m.\u001b[39;49mmax_retries,\n\u001b[1;32m    499\u001b[0m             timeout\u001b[39m=\u001b[39;49mtimeout,\n\u001b[1;32m    500\u001b[0m         )\n\u001b[1;32m    502\u001b[0m     \u001b[39m# Send the request.\u001b[39;00m\n\u001b[1;32m    503\u001b[0m     \u001b[39melse\u001b[39;00m:\n\u001b[1;32m    504\u001b[0m         \u001b[39mif\u001b[39;00m \u001b[39mhasattr\u001b[39m(conn, \u001b[39m\"\u001b[39m\u001b[39mproxy_pool\u001b[39m\u001b[39m\"\u001b[39m):\n",
      "File \u001b[0;32m/Library/Frameworks/Python.framework/Versions/3.10/lib/python3.10/site-packages/urllib3/connectionpool.py:703\u001b[0m, in \u001b[0;36mHTTPConnectionPool.urlopen\u001b[0;34m(self, method, url, body, headers, retries, redirect, assert_same_host, timeout, pool_timeout, release_conn, chunked, body_pos, **response_kw)\u001b[0m\n\u001b[1;32m    700\u001b[0m     \u001b[39mself\u001b[39m\u001b[39m.\u001b[39m_prepare_proxy(conn)\n\u001b[1;32m    702\u001b[0m \u001b[39m# Make the request on the httplib connection object.\u001b[39;00m\n\u001b[0;32m--> 703\u001b[0m httplib_response \u001b[39m=\u001b[39m \u001b[39mself\u001b[39;49m\u001b[39m.\u001b[39;49m_make_request(\n\u001b[1;32m    704\u001b[0m     conn,\n\u001b[1;32m    705\u001b[0m     method,\n\u001b[1;32m    706\u001b[0m     url,\n\u001b[1;32m    707\u001b[0m     timeout\u001b[39m=\u001b[39;49mtimeout_obj,\n\u001b[1;32m    708\u001b[0m     body\u001b[39m=\u001b[39;49mbody,\n\u001b[1;32m    709\u001b[0m     headers\u001b[39m=\u001b[39;49mheaders,\n\u001b[1;32m    710\u001b[0m     chunked\u001b[39m=\u001b[39;49mchunked,\n\u001b[1;32m    711\u001b[0m )\n\u001b[1;32m    713\u001b[0m \u001b[39m# If we're going to release the connection in ``finally:``, then\u001b[39;00m\n\u001b[1;32m    714\u001b[0m \u001b[39m# the response doesn't need to know about the connection. Otherwise\u001b[39;00m\n\u001b[1;32m    715\u001b[0m \u001b[39m# it will also try to release it and we'll have a double-release\u001b[39;00m\n\u001b[1;32m    716\u001b[0m \u001b[39m# mess.\u001b[39;00m\n\u001b[1;32m    717\u001b[0m response_conn \u001b[39m=\u001b[39m conn \u001b[39mif\u001b[39;00m \u001b[39mnot\u001b[39;00m release_conn \u001b[39melse\u001b[39;00m \u001b[39mNone\u001b[39;00m\n",
      "File \u001b[0;32m/Library/Frameworks/Python.framework/Versions/3.10/lib/python3.10/site-packages/urllib3/connectionpool.py:449\u001b[0m, in \u001b[0;36mHTTPConnectionPool._make_request\u001b[0;34m(self, conn, method, url, timeout, chunked, **httplib_request_kw)\u001b[0m\n\u001b[1;32m    444\u001b[0m             httplib_response \u001b[39m=\u001b[39m conn\u001b[39m.\u001b[39mgetresponse()\n\u001b[1;32m    445\u001b[0m         \u001b[39mexcept\u001b[39;00m \u001b[39mBaseException\u001b[39;00m \u001b[39mas\u001b[39;00m e:\n\u001b[1;32m    446\u001b[0m             \u001b[39m# Remove the TypeError from the exception chain in\u001b[39;00m\n\u001b[1;32m    447\u001b[0m             \u001b[39m# Python 3 (including for exceptions like SystemExit).\u001b[39;00m\n\u001b[1;32m    448\u001b[0m             \u001b[39m# Otherwise it looks like a bug in the code.\u001b[39;00m\n\u001b[0;32m--> 449\u001b[0m             six\u001b[39m.\u001b[39;49mraise_from(e, \u001b[39mNone\u001b[39;49;00m)\n\u001b[1;32m    450\u001b[0m \u001b[39mexcept\u001b[39;00m (SocketTimeout, BaseSSLError, SocketError) \u001b[39mas\u001b[39;00m e:\n\u001b[1;32m    451\u001b[0m     \u001b[39mself\u001b[39m\u001b[39m.\u001b[39m_raise_timeout(err\u001b[39m=\u001b[39me, url\u001b[39m=\u001b[39murl, timeout_value\u001b[39m=\u001b[39mread_timeout)\n",
      "File \u001b[0;32m<string>:3\u001b[0m, in \u001b[0;36mraise_from\u001b[0;34m(value, from_value)\u001b[0m\n",
      "File \u001b[0;32m/Library/Frameworks/Python.framework/Versions/3.10/lib/python3.10/site-packages/urllib3/connectionpool.py:444\u001b[0m, in \u001b[0;36mHTTPConnectionPool._make_request\u001b[0;34m(self, conn, method, url, timeout, chunked, **httplib_request_kw)\u001b[0m\n\u001b[1;32m    441\u001b[0m \u001b[39mexcept\u001b[39;00m \u001b[39mTypeError\u001b[39;00m:\n\u001b[1;32m    442\u001b[0m     \u001b[39m# Python 3\u001b[39;00m\n\u001b[1;32m    443\u001b[0m     \u001b[39mtry\u001b[39;00m:\n\u001b[0;32m--> 444\u001b[0m         httplib_response \u001b[39m=\u001b[39m conn\u001b[39m.\u001b[39;49mgetresponse()\n\u001b[1;32m    445\u001b[0m     \u001b[39mexcept\u001b[39;00m \u001b[39mBaseException\u001b[39;00m \u001b[39mas\u001b[39;00m e:\n\u001b[1;32m    446\u001b[0m         \u001b[39m# Remove the TypeError from the exception chain in\u001b[39;00m\n\u001b[1;32m    447\u001b[0m         \u001b[39m# Python 3 (including for exceptions like SystemExit).\u001b[39;00m\n\u001b[1;32m    448\u001b[0m         \u001b[39m# Otherwise it looks like a bug in the code.\u001b[39;00m\n\u001b[1;32m    449\u001b[0m         six\u001b[39m.\u001b[39mraise_from(e, \u001b[39mNone\u001b[39;00m)\n",
      "File \u001b[0;32m/Library/Frameworks/Python.framework/Versions/3.10/lib/python3.10/http/client.py:1368\u001b[0m, in \u001b[0;36mHTTPConnection.getresponse\u001b[0;34m(self)\u001b[0m\n\u001b[1;32m   1366\u001b[0m \u001b[39mtry\u001b[39;00m:\n\u001b[1;32m   1367\u001b[0m     \u001b[39mtry\u001b[39;00m:\n\u001b[0;32m-> 1368\u001b[0m         response\u001b[39m.\u001b[39;49mbegin()\n\u001b[1;32m   1369\u001b[0m     \u001b[39mexcept\u001b[39;00m \u001b[39mConnectionError\u001b[39;00m:\n\u001b[1;32m   1370\u001b[0m         \u001b[39mself\u001b[39m\u001b[39m.\u001b[39mclose()\n",
      "File \u001b[0;32m/Library/Frameworks/Python.framework/Versions/3.10/lib/python3.10/http/client.py:317\u001b[0m, in \u001b[0;36mHTTPResponse.begin\u001b[0;34m(self)\u001b[0m\n\u001b[1;32m    315\u001b[0m \u001b[39m# read until we get a non-100 response\u001b[39;00m\n\u001b[1;32m    316\u001b[0m \u001b[39mwhile\u001b[39;00m \u001b[39mTrue\u001b[39;00m:\n\u001b[0;32m--> 317\u001b[0m     version, status, reason \u001b[39m=\u001b[39m \u001b[39mself\u001b[39;49m\u001b[39m.\u001b[39;49m_read_status()\n\u001b[1;32m    318\u001b[0m     \u001b[39mif\u001b[39;00m status \u001b[39m!=\u001b[39m CONTINUE:\n\u001b[1;32m    319\u001b[0m         \u001b[39mbreak\u001b[39;00m\n",
      "File \u001b[0;32m/Library/Frameworks/Python.framework/Versions/3.10/lib/python3.10/http/client.py:278\u001b[0m, in \u001b[0;36mHTTPResponse._read_status\u001b[0;34m(self)\u001b[0m\n\u001b[1;32m    277\u001b[0m \u001b[39mdef\u001b[39;00m \u001b[39m_read_status\u001b[39m(\u001b[39mself\u001b[39m):\n\u001b[0;32m--> 278\u001b[0m     line \u001b[39m=\u001b[39m \u001b[39mstr\u001b[39m(\u001b[39mself\u001b[39;49m\u001b[39m.\u001b[39;49mfp\u001b[39m.\u001b[39;49mreadline(_MAXLINE \u001b[39m+\u001b[39;49m \u001b[39m1\u001b[39;49m), \u001b[39m\"\u001b[39m\u001b[39miso-8859-1\u001b[39m\u001b[39m\"\u001b[39m)\n\u001b[1;32m    279\u001b[0m     \u001b[39mif\u001b[39;00m \u001b[39mlen\u001b[39m(line) \u001b[39m>\u001b[39m _MAXLINE:\n\u001b[1;32m    280\u001b[0m         \u001b[39mraise\u001b[39;00m LineTooLong(\u001b[39m\"\u001b[39m\u001b[39mstatus line\u001b[39m\u001b[39m\"\u001b[39m)\n",
      "File \u001b[0;32m/Library/Frameworks/Python.framework/Versions/3.10/lib/python3.10/socket.py:705\u001b[0m, in \u001b[0;36mSocketIO.readinto\u001b[0;34m(self, b)\u001b[0m\n\u001b[1;32m    703\u001b[0m \u001b[39mwhile\u001b[39;00m \u001b[39mTrue\u001b[39;00m:\n\u001b[1;32m    704\u001b[0m     \u001b[39mtry\u001b[39;00m:\n\u001b[0;32m--> 705\u001b[0m         \u001b[39mreturn\u001b[39;00m \u001b[39mself\u001b[39;49m\u001b[39m.\u001b[39;49m_sock\u001b[39m.\u001b[39;49mrecv_into(b)\n\u001b[1;32m    706\u001b[0m     \u001b[39mexcept\u001b[39;00m timeout:\n\u001b[1;32m    707\u001b[0m         \u001b[39mself\u001b[39m\u001b[39m.\u001b[39m_timeout_occurred \u001b[39m=\u001b[39m \u001b[39mTrue\u001b[39;00m\n",
      "\u001b[0;31mKeyboardInterrupt\u001b[0m: "
     ]
    }
   ],
   "source": [
    "create_network(2022)"
   ]
  },
  {
   "cell_type": "code",
   "execution_count": null,
   "metadata": {},
   "outputs": [
    {
     "name": "stdout",
     "output_type": "stream",
     "text": [
      "476.884684356165\n"
     ]
    }
   ],
   "source": [
    "lat1, lon1 = 41.9028, 12.4964  # Roma\n",
    "lat2, lon2 = 45.4642, 9.1900  # Milano\n",
    "\n",
    "print(haversine_distance(lat1, lon1, lat2, lon2))\n"
   ]
  },
  {
   "cell_type": "code",
   "execution_count": null,
   "metadata": {},
   "outputs": [
    {
     "name": "stdout",
     "output_type": "stream",
     "text": [
      "476.884684356165\n"
     ]
    }
   ],
   "source": [
    "print(get_osrm_distance(lat1, lon1, lat2, lon2))"
   ]
  },
  {
   "cell_type": "code",
   "execution_count": null,
   "metadata": {},
   "outputs": [
    {
     "name": "stdout",
     "output_type": "stream",
     "text": [
      "Distanza tra Monaco e Berlino: 504.4153314003782 km\n"
     ]
    }
   ],
   "source": [
    "def main():\n",
    "    # Coordinate di Monaco di Baviera, Germania\n",
    "    munich_lat = 48.1351\n",
    "    munich_lon = 11.5820\n",
    "\n",
    "    # Coordinate di Berlino, Germania\n",
    "    berlin_lat = 52.5200\n",
    "    berlin_lon = 13.4050\n",
    "\n",
    "    # Calcola la distanza tra Monaco e Berlino utilizzando la funzione get_osrm_distance()\n",
    "    distance = get_osrm_distance(munich_lat, munich_lon, berlin_lat, berlin_lon)\n",
    "    print(f\"Distanza tra Monaco e Berlino: {distance} km\")\n",
    "\n",
    "if __name__ == \"__main__\":\n",
    "    main()\n"
   ]
  },
  {
   "cell_type": "code",
   "execution_count": null,
   "metadata": {},
   "outputs": [],
   "source": []
  }
 ],
 "metadata": {
  "kernelspec": {
   "display_name": "Python 3",
   "language": "python",
   "name": "python3"
  },
  "language_info": {
   "codemirror_mode": {
    "name": "ipython",
    "version": 3
   },
   "file_extension": ".py",
   "mimetype": "text/x-python",
   "name": "python",
   "nbconvert_exporter": "python",
   "pygments_lexer": "ipython3",
   "version": "3.10.0"
  },
  "orig_nbformat": 4
 },
 "nbformat": 4,
 "nbformat_minor": 2
}
