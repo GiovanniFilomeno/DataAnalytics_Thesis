{
 "cells": [
  {
   "cell_type": "code",
   "execution_count": 1,
   "metadata": {},
   "outputs": [],
   "source": [
    "import networkx as nx\n",
    "import pandas as pd\n",
    "import numpy as np\n",
    "\n",
    "import geopandas as gpd\n",
    "from shapely.geometry import Point, shape, Polygon\n",
    "import json\n",
    "import matplotlib.pyplot as plt\n",
    "\n",
    "import random\n",
    "from utils import get_osrm_distance\n",
    "from utils import draw_graph\n",
    "from utils import calculate_weighted_metrics\n",
    "from tqdm import tqdm, trange\n",
    "import os\n"
   ]
  },
  {
   "cell_type": "code",
   "execution_count": 4,
   "metadata": {},
   "outputs": [
    {
     "name": "stdout",
     "output_type": "stream",
     "text": [
      "{'density': 0.12450464304725851, 'average_distance': 53.78601766838495, 'diameter': 9.0, 'average_clustering': 0.704, 'year': 2011, 'total_nodes': 320, 'subnetwork_sizes': [319]}\n",
      "{'density': 0.14026451623542605, 'average_distance': 50.135825028054924, 'diameter': 9.0, 'average_clustering': 0.766, 'year': 2012, 'total_nodes': 494, 'subnetwork_sizes': [493]}\n",
      "{'density': 0.14413283546516248, 'average_distance': 48.07905518410057, 'diameter': 9.0, 'average_clustering': 0.828, 'year': 2013, 'total_nodes': 615, 'subnetwork_sizes': [615]}\n",
      "{'density': 0.12606217756529725, 'average_distance': 53.34244719618865, 'diameter': 10.0, 'average_clustering': 0.742, 'year': 2014, 'total_nodes': 861, 'subnetwork_sizes': [861]}\n",
      "{'density': 0.11044858941670588, 'average_distance': 58.40572895898593, 'diameter': 10.0, 'average_clustering': 0.734, 'year': 2015, 'total_nodes': 1393, 'subnetwork_sizes': [1393]}\n",
      "{'density': 0.09411216532167793, 'average_distance': 59.56280831618312, 'diameter': 9.0, 'average_clustering': 0.744, 'year': 2016, 'total_nodes': 2503, 'subnetwork_sizes': [2503]}\n",
      "{'density': 0.08906473413098004, 'average_distance': 60.295633470274616, 'diameter': 9.0, 'average_clustering': 0.684, 'year': 2017, 'total_nodes': 4350, 'subnetwork_sizes': [4350]}\n"
     ]
    }
   ],
   "source": [
    "year = [2011, 2012, 2013, 2014, 2015, 2016, 2017]\n",
    "\n",
    "for yr in year:\n",
    "\n",
    "    filename_opt=f\"network_graphs_optimized/network_{yr}.graphml\"\n",
    "    # filename_real=f\"network_graphs_save/network_{yr}_100.graphml\"\n",
    "    graph_opt = nx.read_graphml(filename_opt)\n",
    "    m = calculate_weighted_metrics(graph_opt, yr)\n",
    "    print(m)\n",
    "    # draw_graph(graph_opt)\n",
    "    "
   ]
  },
  {
   "cell_type": "code",
   "execution_count": null,
   "metadata": {},
   "outputs": [],
   "source": []
  }
 ],
 "metadata": {
  "kernelspec": {
   "display_name": "Python 3",
   "language": "python",
   "name": "python3"
  },
  "language_info": {
   "codemirror_mode": {
    "name": "ipython",
    "version": 3
   },
   "file_extension": ".py",
   "mimetype": "text/x-python",
   "name": "python",
   "nbconvert_exporter": "python",
   "pygments_lexer": "ipython3",
   "version": "3.7.5"
  },
  "orig_nbformat": 4
 },
 "nbformat": 4,
 "nbformat_minor": 2
}
