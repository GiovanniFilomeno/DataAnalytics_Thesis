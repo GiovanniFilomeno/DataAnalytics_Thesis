{
 "cells": [
  {
   "cell_type": "code",
   "execution_count": 1,
   "metadata": {},
   "outputs": [],
   "source": [
    "import networkx as nx\n",
    "import pandas as pd\n",
    "import numpy as np\n",
    "\n",
    "import geopandas as gpd\n",
    "from shapely.geometry import Point, shape, Polygon\n",
    "import json\n",
    "import matplotlib.pyplot as plt\n",
    "\n",
    "import random\n",
    "from utils import get_osrm_distance\n",
    "from utils import draw_graph\n",
    "from utils import calculate_weighted_metrics\n",
    "from tqdm import tqdm, trange\n",
    "import os\n"
   ]
  },
  {
   "cell_type": "code",
   "execution_count": 4,
   "metadata": {},
   "outputs": [
    {
     "name": "stdout",
     "output_type": "stream",
     "text": [
      "{'density': 0.2431072246191776, 'average_distance': 54.06151616287481, 'diameter': 8.95, 'average_clustering': 0.7438, 'year': 2011, 'total_nodes': 320, 'subnetwork_sizes': [278, 42]}\n",
      "{'density': 0.14026451623542605, 'average_distance': 50.135825028054924, 'diameter': 9.0, 'average_clustering': 0.76, 'year': 2012, 'total_nodes': 494, 'subnetwork_sizes': [493]}\n",
      "{'density': 0.14413283546516248, 'average_distance': 48.07905518410057, 'diameter': 10.0, 'average_clustering': 0.813, 'year': 2013, 'total_nodes': 615, 'subnetwork_sizes': [615]}\n",
      "{'density': 0.1298922291548497, 'average_distance': 53.96124292869801, 'diameter': 10.0, 'average_clustering': 0.781, 'year': 2014, 'total_nodes': 861, 'subnetwork_sizes': [861]}\n",
      "{'density': 0.11266925761813998, 'average_distance': 58.152874250581824, 'diameter': 10.0, 'average_clustering': 0.7379999999999999, 'year': 2015, 'total_nodes': 1393, 'subnetwork_sizes': [1393]}\n",
      "{'density': 0.09411216532167793, 'average_distance': 59.56280831618312, 'diameter': 8.0, 'average_clustering': 0.73, 'year': 2016, 'total_nodes': 2503, 'subnetwork_sizes': [2503]}\n"
     ]
    },
    {
     "ename": "",
     "evalue": "",
     "output_type": "error",
     "traceback": [
      "\u001b[1;31mThe Kernel crashed while executing code in the the current cell or a previous cell. Please review the code in the cell(s) to identify a possible cause of the failure. Click <a href='https://aka.ms/vscodeJupyterKernelCrash'>here</a> for more info. View Jupyter <a href='command:jupyter.viewOutput'>log</a> for further details."
     ]
    }
   ],
   "source": [
    "year = [2011, 2012, 2013, 2014, 2015, 2016]\n",
    "\n",
    "for yr in year:\n",
    "\n",
    "    filename_opt=f\"network_graphs_optimized/network_{yr}.graphml\"\n",
    "    # filename_real=f\"network_graphs_save/network_{yr}_100.graphml\"\n",
    "    graph_opt = nx.read_graphml(filename_opt)\n",
    "    m = calculate_weighted_metrics(graph_opt, yr)\n",
    "    print(m)\n",
    "    # draw_graph(graph_opt)\n",
    "    "
   ]
  },
  {
   "cell_type": "code",
   "execution_count": null,
   "metadata": {},
   "outputs": [],
   "source": []
  }
 ],
 "metadata": {
  "kernelspec": {
   "display_name": "Python 3",
   "language": "python",
   "name": "python3"
  },
  "language_info": {
   "codemirror_mode": {
    "name": "ipython",
    "version": 3
   },
   "file_extension": ".py",
   "mimetype": "text/x-python",
   "name": "python",
   "nbconvert_exporter": "python",
   "pygments_lexer": "ipython3",
   "version": "3.7.5"
  },
  "orig_nbformat": 4
 },
 "nbformat": 4,
 "nbformat_minor": 2
}
