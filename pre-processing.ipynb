{
 "cells": [
  {
   "cell_type": "code",
   "execution_count": 2,
   "metadata": {},
   "outputs": [],
   "source": [
    "import pandas as pd\n",
    "import numpy as np"
   ]
  },
  {
   "cell_type": "code",
   "execution_count": 3,
   "metadata": {},
   "outputs": [],
   "source": [
    "# Read the CSV file\n",
    "df = pd.read_csv('Ladesaeulenregister_CSV.csv', encoding='latin_1', sep=';', skiprows=10)\n",
    "\n",
    "# Rename columns\n",
    "column_mapping = {\n",
    "    'Betreiber': 'operator',\n",
    "    'Straï¿½e': 'address',\n",
    "    'Hausnummer': 'house_number',\n",
    "    'Adresszusatz': 'placeholder1',\n",
    "    'Postleitzahl': 'postcode',\n",
    "    'Ort': 'city',\n",
    "    'Bundesland': 'federal_state',\n",
    "    'Kreis/kreisfreie Stadt': 'metropolitan_area',\n",
    "    'Breitengrad': 'latitude_[dg]',\n",
    "    'Lï¿½ngengrad': 'longitude_[dg]',\n",
    "    'Inbetriebnahmedatum': 'commissioning_date',\n",
    "    'Anschlussleistung': 'power_connection_[kw]',\n",
    "    'Normalladeeinrichtung': 'type_of_charger',\n",
    "    'Anzahl Ladepunkte': 'number_of_charging_points',\n",
    "    'Steckertypen1': 'type_of_plug_1',\n",
    "    'P1 [kW]': 'p1_[kw]',\n",
    "    'Public Key1': 'public_key1',\n",
    "    'Steckertypen2': 'type_of_plug_2',\n",
    "    'P2 [kW]': 'p2_[kw]',\n",
    "    'Public Key2': 'public_key2',\n",
    "    'Steckertypen3': 'type_of_plug_3',\n",
    "    'P3 [kW]': 'p3_[kw]',\n",
    "    'Public Key3': 'public_key3',\n",
    "    'Steckertypen4': 'type_of_plug_4',\n",
    "    'P4 [kW]': 'p4_[kw]',\n",
    "    'Public Key4': 'public_key4'\n",
    "}\n",
    "df.rename(columns=column_mapping, inplace=True)\n",
    "\n",
    "# Modify the 'type_of_charger' column\n",
    "charger_mapping = {'Schnellladeeinrichtung': 'fast', 'Normalladeeinrichtung': 'normal'}\n",
    "df.type_of_charger.replace(charger_mapping, inplace=True)\n",
    "\n",
    "# Fill null values with 0 for these columns\n",
    "na_columns = ['type_of_plug_2', 'p2_[kw]', 'type_of_plug_3', 'p3_[kw]', 'type_of_plug_4', 'p4_[kw]']\n",
    "for column in na_columns:\n",
    "    df[column] = df[column].fillna(value='0')\n",
    "\n",
    "# Drop public key columns\n",
    "df.drop(columns=['public_key1', 'public_key2', 'public_key3', 'public_key4'], inplace=True)\n",
    "\n",
    "# Replace ',' with '.' and convert the numeric columns to float\n",
    "numeric_columns = ['longitude_[dg]', 'latitude_[dg]', 'power_connection_[kw]', 'p1_[kw]', 'p2_[kw]', 'p3_[kw]', 'p4_[kw]']\n",
    "for column in numeric_columns:\n",
    "    df[column] = df[column].str.replace(',', '.').astype(float)\n",
    "\n",
    "# Convert the 'commissioning_date' column to datetime\n",
    "df['commissioning_date'] = pd.to_datetime(df['commissioning_date'], format='%d.%m.%Y')\n",
    "\n",
    "# Strip leading and trailing spaces in object columns\n",
    "object_columns = df.select_dtypes(include='object').columns\n",
    "for column in object_columns:\n",
    "    df[column] = df[column].str.strip()\n",
    "\n",
    "# Fix city names\n",
    "city_modifications = {\n",
    "    'M¸nchen': 'München',\n",
    "    'Frankfurt': 'Frankfurt am Main',\n",
    "    'Frankfurt-Niederrad': 'Frankfurt am Main',\n",
    "    'Stuttgart-Obertürkheim': 'Stuttgart',\n",
    "    'Stuttgart-Mühlhausen': 'Stuttgart',\n",
    "    'Stuttgart-Möhringen': 'Stuttgart',\n",
    "}\n",
    "\n",
    "df['city'].replace(city_modifications, inplace=True)\n",
    "\n",
    "# Remove duplicates\n",
    "df.drop_duplicates(inplace=True)\n",
    "\n",
    "# Save the cleaned DataFrame to a new CSV file\n",
    "df.to_csv('ChargingStationCleaned.csv', index=False)\n",
    "\n"
   ]
  },
  {
   "cell_type": "code",
   "execution_count": 4,
   "metadata": {},
   "outputs": [],
   "source": []
  },
  {
   "cell_type": "code",
   "execution_count": null,
   "metadata": {},
   "outputs": [],
   "source": []
  }
 ],
 "metadata": {
  "kernelspec": {
   "display_name": "Python 3.10.0 64-bit",
   "language": "python",
   "name": "python3"
  },
  "language_info": {
   "codemirror_mode": {
    "name": "ipython",
    "version": 3
   },
   "file_extension": ".py",
   "mimetype": "text/x-python",
   "name": "python",
   "nbconvert_exporter": "python",
   "pygments_lexer": "ipython3",
   "version": "3.7.5"
  },
  "orig_nbformat": 4,
  "vscode": {
   "interpreter": {
    "hash": "aee8b7b246df8f9039afb4144a1f6fd8d2ca17a180786b69acc140d282b71a49"
   }
  }
 },
 "nbformat": 4,
 "nbformat_minor": 2
}
